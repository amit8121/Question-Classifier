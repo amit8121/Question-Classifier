{
 "cells": [
  {
   "cell_type": "markdown",
   "metadata": {},
   "source": [
    "## Creating Word vectors for training Sentences using Doc2Vec Algorithm"
   ]
  },
  {
   "cell_type": "markdown",
   "metadata": {},
   "source": [
    "#### Overview"
   ]
  },
  {
   "cell_type": "markdown",
   "metadata": {},
   "source": [
    "Step 1: Extract sentences which are actual questions from various sources and clean them ( word tokenization, lemmatizing,\n",
    "removing DATE and PERSON name entities from message) etc.\n",
    "\n",
    "\n",
    "Step 2: Extract sentences which are random sentences taken from amazon reviews, random qoutes and clean them using the same pre processing techniques as above.\n",
    "\n",
    "\n",
    "Step 3: Create a single dataframe which contains a mix of sentences ( from questions to non- questions and label them as\n",
    "\n",
    "'1' for questions and '0' for non questions.\n",
    "\n",
    "Step 4: Perform / visualize from Exploratory data analysis on the text data we are dealing with.\n",
    "\n",
    "\n",
    "Step 5: Create number vectors for each sentence in the final data frame ( made from step 3) and store them in a csv file, along with the training parameters of Doc2Vector.\n",
    "\n",
    "\n"
   ]
  },
  {
   "cell_type": "markdown",
   "metadata": {},
   "source": [
    "#### Importing Necessary Libraries"
   ]
  },
  {
   "cell_type": "code",
   "execution_count": 1,
   "metadata": {},
   "outputs": [
    {
     "name": "stderr",
     "output_type": "stream",
     "text": [
      "C:\\Users\\amith\\AppData\\Local\\Continuum\\anaconda3\\lib\\site-packages\\gensim\\utils.py:1197: UserWarning: detected Windows; aliasing chunkize to chunkize_serial\n",
      "  warnings.warn(\"detected Windows; aliasing chunkize to chunkize_serial\")\n"
     ]
    }
   ],
   "source": [
    "import numpy as np\n",
    "import pandas as pd\n",
    "import os\n",
    "\n",
    "import matplotlib.pyplot as plt # To print plots\n",
    "import spacy # To recognize named entities from english\n",
    "import re # To write regular expression rules\n",
    "\n",
    "from nltk.tokenize import word_tokenize # To perform word tokenization\n",
    "from nltk.stem import WordNetLemmatizer # To perform lemmatization on each word\n",
    "from collections import Counter, defaultdict\n",
    "\n",
    "\n",
    "from gensim.models.doc2vec import Doc2Vec, TaggedDocument\n",
    "\n",
    "import glob # To enable reading multiple files "
   ]
  },
  {
   "cell_type": "code",
   "execution_count": 2,
   "metadata": {},
   "outputs": [],
   "source": [
    "# Spacy object to load different entities in english\n",
    "spec = spacy.load('en')\n",
    "\n",
    "# Object to lemmatize each word: convert them to a base form\n",
    "lem_obj = WordNetLemmatizer()"
   ]
  },
  {
   "cell_type": "markdown",
   "metadata": {},
   "source": [
    "#### STEP 1: Actual questions"
   ]
  },
  {
   "cell_type": "code",
   "execution_count": 3,
   "metadata": {},
   "outputs": [],
   "source": [
    "\n",
    "#Loading the text file with sentences which are actual questions\n",
    "train_ques =  pd.read_csv('C:\\\\Users\\\\amith\\\\Desktop\\\\Toucan AI_Test\\\\datasets_train\\\\Questions\\\\TRAINQ.txt',\n",
    "                          sep='\\r\\n',\n",
    "                          header=None,\n",
    "                          engine='python')"
   ]
  },
  {
   "cell_type": "code",
   "execution_count": 4,
   "metadata": {},
   "outputs": [
    {
     "data": {
      "text/plain": [
       "8452"
      ]
     },
     "execution_count": 4,
     "metadata": {},
     "output_type": "execute_result"
    }
   ],
   "source": [
    "len(train_ques)"
   ]
  },
  {
   "cell_type": "code",
   "execution_count": 5,
   "metadata": {},
   "outputs": [],
   "source": [
    "# Converting the dataframe with questions as a list of strings\n",
    "train_ques_values = train_ques.values.tolist()"
   ]
  },
  {
   "cell_type": "code",
   "execution_count": 6,
   "metadata": {
    "code_folding": [
     0
    ]
   },
   "outputs": [],
   "source": [
    "def clean(data):\n",
    "    \n",
    "    '''This is a helper function which pre-processes the text in a format which can be fed \n",
    "    to a Doc2Vec to train the sentences.\n",
    "    \n",
    "    \n",
    "    Inputs:\n",
    "    \n",
    "    data: A list of strings. \n",
    "            Shape = N documents\n",
    "    \n",
    "    Returns: A list of strings.\n",
    "            Shape = N documents\n",
    "    \n",
    "    Steps:\n",
    "    \n",
    "    a -> for each sentence in the text data, convert it to string (to avoid special character issues) and look for any named\n",
    "    entities in that particular sentence. Entities such as name of a person and date will be replaced in the string.\n",
    "    \n",
    "    b-> The sentence would then be tokenized into individual words, transformed to lower case, and then lemmatized ( turning into its base form)\n",
    "    A word is only lemmatized if it either a digit or an alphabet ( to avoid special characters)\n",
    "    \n",
    "    c-> This *cleaned* sentence is then appended to a list as a single line.\n",
    "    \n",
    "    d-> This process continues untill all the sentences in the input data are iterated over and finally this method returns\n",
    "    \n",
    "    a list of strings, where each index contains a sentence which is pre-processed.\n",
    "    '''\n",
    "    \n",
    "    # List to hold the cleaned strings\n",
    "    fd = []\n",
    "    \n",
    "    # Iterating over each sentence \n",
    "    for sent in data:\n",
    "        \n",
    "        # Convert it to string , to avoid encoding issues\n",
    "        sent = str( sent[0] )\n",
    "        \n",
    "        # Identify named entities in this string\n",
    "        ne = spec(sent)\n",
    "        \n",
    "        # Iterating over each named entity in the string\n",
    "        for ents in ne.ents:\n",
    "            \n",
    "            # If an entity like PERSON's name or DATE is in this string,\n",
    "            # replace that with an empty string\n",
    "            if ents.label_ is \"PERSON\" or ents.label_ is \"DATE\":\n",
    "                \n",
    "                sent = sent.replace(ents.text, '')\n",
    "        \n",
    "        # After removing such entities, tokenize sentence into individual words,\n",
    "        # if a word is an alphabet or a digit only then add that word to a sentence by converting it to base form : lemmatizing\n",
    "        result = ' '.join([lem_obj.lemmatize(word.lower())\n",
    "                           for word in word_tokenize(sent) if word.isalpha() or word.isdigit() ]) \n",
    "        \n",
    "        # Add the resulting clean string to the final list\n",
    "        fd.append(result)\n",
    "        \n",
    "        \n",
    "    # Return a list containing all the cleaned strings in each row\n",
    "    return fd"
   ]
  },
  {
   "cell_type": "code",
   "execution_count": 7,
   "metadata": {},
   "outputs": [
    {
     "data": {
      "text/plain": [
       "8452"
      ]
     },
     "execution_count": 7,
     "metadata": {},
     "output_type": "execute_result"
    }
   ],
   "source": [
    "# Clean the sentences which are actual questions\n",
    "data = clean(train_ques_values)\n",
    "\n",
    "# Make a data frame with only questions\n",
    "df_ques = pd.DataFrame(data, columns=['Text'])\n",
    "\n",
    "# Add a column of ones with the same no. of samples as the no. of sentences, they will be used as a prediction label\n",
    "df_ques['label'] = np.ones(shape=len(df_ques), dtype=int)\n",
    "\n",
    "len(df_ques)"
   ]
  },
  {
   "cell_type": "markdown",
   "metadata": {},
   "source": [
    "#### STEP 2: Random text which are not questions"
   ]
  },
  {
   "cell_type": "code",
   "execution_count": 8,
   "metadata": {
    "code_folding": [
     10
    ]
   },
   "outputs": [],
   "source": [
    "# Path to read rest of the files for training\n",
    "path =r'C:\\\\Users\\\\amith\\\\Desktop\\\\Toucan AI_Test\\\\datasets_train' \n",
    "\n",
    "# Read all text files in this folder\n",
    "allFiles = glob.glob(path + \"/*.txt\")\n",
    "\n",
    "# List to hold data frame with all the text files\n",
    "list_ = []\n",
    "\n",
    "# Iterating over each text file \n",
    "for file_ in allFiles:\n",
    "    \n",
    "    df = pd.read_csv(file_,\n",
    "                     index_col=None,\n",
    "                     header=None,\n",
    "                     sep='\\r\\n', # Seperator for a new line in windows\n",
    "                     encoding='utf-8',\n",
    "                     engine='python')\n",
    "    \n",
    "    list_.append(df)\n",
    "\n",
    "# Concatenate multiple text files into a single series of values\n",
    "review_files = pd.concat(list_, axis = 0, ignore_index = True)\n",
    "\n",
    "# Clean all the sentences in the merged data frame and copy the data in to a data frame\n",
    "review_files = pd.DataFrame( \n",
    "    clean(review_files.values.tolist()),\n",
    "    columns=['text'] )"
   ]
  },
  {
   "cell_type": "code",
   "execution_count": 9,
   "metadata": {},
   "outputs": [
    {
     "data": {
      "text/plain": [
       "2000"
      ]
     },
     "execution_count": 9,
     "metadata": {},
     "output_type": "execute_result"
    }
   ],
   "source": [
    "len(review_files)"
   ]
  },
  {
   "cell_type": "code",
   "execution_count": 10,
   "metadata": {},
   "outputs": [],
   "source": [
    "os.chdir('C:\\\\Users\\\\amith\\\\Desktop\\\\Toucan AI_Test\\\\datasets_train')"
   ]
  },
  {
   "cell_type": "markdown",
   "metadata": {},
   "source": [
    "There are 2000 documents / sentences with reviews from Amazon, IMDB and Yelp"
   ]
  },
  {
   "cell_type": "code",
   "execution_count": 11,
   "metadata": {},
   "outputs": [],
   "source": [
    "# Data frame to hold the csv file with random text sentences from different contexts\n",
    "df_csv1 =  pd.read_csv('agreement-sentence-agreement-DFE.csv',\n",
    "                        usecols=['premise'] # Only read the column 'premise' from the data set\n",
    "                        ,encoding='utf-8',\n",
    "                       engine='python')\n",
    "\n",
    "# Data frame to hold the csv file with random text sentences from different contexts\n",
    "df_csv2 =  pd.read_csv('plausible-sentences-DFE.csv',\n",
    "                       usecols=['sentence'] # Only read the column 'premise' from the data set\n",
    "                          ,encoding='utf-8',\n",
    "                       engine='python')\n",
    "\n",
    "\n",
    "# Clean the text data \n",
    "df_csv1['text'] = clean(df_csv1.values.tolist() )\n",
    "\n",
    "df_csv2['text'] = clean(df_csv2.values.tolist() )"
   ]
  },
  {
   "cell_type": "code",
   "execution_count": 12,
   "metadata": {},
   "outputs": [],
   "source": [
    "# Concatenating or merging multiple data frames in to one Series which holds all random text sentences\n",
    "df_nonques = pd.concat([ df_csv1['text'],\n",
    "                        df_csv2['text'],\n",
    "                        review_files['text'] ],\n",
    "                       axis = 0   ) # Merge row wise\n",
    "\n",
    "# Converting series to data frmae\n",
    "df_nonques = pd.DataFrame(df_nonques.values, columns=['Text'])\n",
    "\n",
    "# Giving all the sentences a label of zero, which depicts the sentence not being a question\n",
    "df_nonques['label'] = np.zeros(shape=(len(df_nonques)    ) , dtype=int    )"
   ]
  },
  {
   "cell_type": "markdown",
   "metadata": {},
   "source": [
    "##### STEP 3: Combine all sentences which are questions and random text"
   ]
  },
  {
   "cell_type": "code",
   "execution_count": 13,
   "metadata": {},
   "outputs": [],
   "source": [
    "df_fd = pd.concat([df_ques, df_nonques], axis = 0)"
   ]
  },
  {
   "cell_type": "code",
   "execution_count": 14,
   "metadata": {},
   "outputs": [
    {
     "data": {
      "text/html": [
       "<div>\n",
       "<style scoped>\n",
       "    .dataframe tbody tr th:only-of-type {\n",
       "        vertical-align: middle;\n",
       "    }\n",
       "\n",
       "    .dataframe tbody tr th {\n",
       "        vertical-align: top;\n",
       "    }\n",
       "\n",
       "    .dataframe thead th {\n",
       "        text-align: right;\n",
       "    }\n",
       "</style>\n",
       "<table border=\"1\" class=\"dataframe\">\n",
       "  <thead>\n",
       "    <tr style=\"text-align: right;\">\n",
       "      <th></th>\n",
       "      <th>Text</th>\n",
       "      <th>label</th>\n",
       "    </tr>\n",
       "  </thead>\n",
       "  <tbody>\n",
       "    <tr>\n",
       "      <th>0</th>\n",
       "      <td>how did serfdom develop in and then leave russia</td>\n",
       "      <td>1</td>\n",
       "    </tr>\n",
       "    <tr>\n",
       "      <th>1</th>\n",
       "      <td>what film featured the character</td>\n",
       "      <td>1</td>\n",
       "    </tr>\n",
       "    <tr>\n",
       "      <th>2</th>\n",
       "      <td>how can i find a list of celebrity real name</td>\n",
       "      <td>1</td>\n",
       "    </tr>\n",
       "    <tr>\n",
       "      <th>3</th>\n",
       "      <td>what fowl grab the spotlight after the chinese...</td>\n",
       "      <td>1</td>\n",
       "    </tr>\n",
       "    <tr>\n",
       "      <th>4</th>\n",
       "      <td>what is the full form of</td>\n",
       "      <td>1</td>\n",
       "    </tr>\n",
       "  </tbody>\n",
       "</table>\n",
       "</div>"
      ],
      "text/plain": [
       "                                                Text  label\n",
       "0   how did serfdom develop in and then leave russia      1\n",
       "1                   what film featured the character      1\n",
       "2       how can i find a list of celebrity real name      1\n",
       "3  what fowl grab the spotlight after the chinese...      1\n",
       "4                           what is the full form of      1"
      ]
     },
     "execution_count": 14,
     "metadata": {},
     "output_type": "execute_result"
    }
   ],
   "source": [
    "df_fd.head()"
   ]
  },
  {
   "cell_type": "code",
   "execution_count": 15,
   "metadata": {},
   "outputs": [],
   "source": [
    "\n",
    "# Shuffle the sentences for randomness\n",
    "df_fd = df_fd.sample(frac=1)"
   ]
  },
  {
   "cell_type": "code",
   "execution_count": 16,
   "metadata": {},
   "outputs": [
    {
     "data": {
      "text/html": [
       "<div>\n",
       "<style scoped>\n",
       "    .dataframe tbody tr th:only-of-type {\n",
       "        vertical-align: middle;\n",
       "    }\n",
       "\n",
       "    .dataframe tbody tr th {\n",
       "        vertical-align: top;\n",
       "    }\n",
       "\n",
       "    .dataframe thead th {\n",
       "        text-align: right;\n",
       "    }\n",
       "</style>\n",
       "<table border=\"1\" class=\"dataframe\">\n",
       "  <thead>\n",
       "    <tr style=\"text-align: right;\">\n",
       "      <th></th>\n",
       "      <th>Text</th>\n",
       "      <th>label</th>\n",
       "    </tr>\n",
       "  </thead>\n",
       "  <tbody>\n",
       "    <tr>\n",
       "      <th>822</th>\n",
       "      <td>a city worker pushing a mobile garbage bin</td>\n",
       "      <td>0</td>\n",
       "    </tr>\n",
       "    <tr>\n",
       "      <th>3831</th>\n",
       "      <td>who patented the first phonograph</td>\n",
       "      <td>1</td>\n",
       "    </tr>\n",
       "    <tr>\n",
       "      <th>7275</th>\n",
       "      <td>who is band director in</td>\n",
       "      <td>1</td>\n",
       "    </tr>\n",
       "    <tr>\n",
       "      <th>2487</th>\n",
       "      <td>the phone load super</td>\n",
       "      <td>0</td>\n",
       "    </tr>\n",
       "    <tr>\n",
       "      <th>5603</th>\n",
       "      <td>what is goldenseal</td>\n",
       "      <td>1</td>\n",
       "    </tr>\n",
       "  </tbody>\n",
       "</table>\n",
       "</div>"
      ],
      "text/plain": [
       "                                            Text  label\n",
       "822   a city worker pushing a mobile garbage bin      0\n",
       "3831           who patented the first phonograph      1\n",
       "7275                     who is band director in      1\n",
       "2487                        the phone load super      0\n",
       "5603                          what is goldenseal      1"
      ]
     },
     "execution_count": 16,
     "metadata": {},
     "output_type": "execute_result"
    }
   ],
   "source": [
    "df_fd.head()"
   ]
  },
  {
   "cell_type": "code",
   "execution_count": 17,
   "metadata": {},
   "outputs": [],
   "source": [
    "# Saving to a CSV file\n",
    "\n",
    "df_fd.to_csv('C:\\\\Users\\\\amith\\\\Desktop\\\\Toucan AI_Test\\\\QNQ.csv',sep=',')"
   ]
  },
  {
   "cell_type": "markdown",
   "metadata": {},
   "source": [
    "#### STEP 4: Visualize text data"
   ]
  },
  {
   "cell_type": "code",
   "execution_count": 18,
   "metadata": {
    "code_folding": [
     1
    ]
   },
   "outputs": [
    {
     "data": {
      "image/png": "[encoded data removed]",
      "text/plain": [
       "<Figure size 432x288 with 1 Axes>"
      ]
     },
     "metadata": {},
     "output_type": "display_data"
    }
   ],
   "source": [
    "# Calculating total count for each unique label in the data set and plotting a bar plot\n",
    "ax = df_fd['label'].value_counts().plot(kind='bar', \n",
    "                                   \n",
    "                                   title='Comparisions of # questions and general sentences in the data set',\n",
    "                                   \n",
    "                                  legend=True,\n",
    "                                  \n",
    "                                  fontsize = 12,\n",
    "                                  \n",
    "                             )\n",
    "\n",
    "ax.set_xticks(range(2)) \n",
    "\n",
    "ax.set_xticklabels(['Questions', 'General Sentences'], rotation=90)\n",
    "\n",
    "plt.xlabel('Categories of sentences')\n",
    "\n",
    "plt.ylabel('Count of each category')\n",
    "\n",
    "plt.show()"
   ]
  },
  {
   "cell_type": "code",
   "execution_count": 19,
   "metadata": {},
   "outputs": [],
   "source": [
    "count = Counter(df_fd['Text'])"
   ]
  },
  {
   "cell_type": "code",
   "execution_count": 20,
   "metadata": {},
   "outputs": [
    {
     "data": {
      "text/plain": [
       "[('who is', 36),\n",
       " ('what is', 22),\n",
       " ('who wa', 21),\n",
       " ('when wa born', 11),\n",
       " ('what doe the name mean', 10),\n",
       " ('what doe mean', 9),\n",
       " ('where is', 8),\n",
       " ('who killed', 7),\n",
       " ('how did die', 7),\n",
       " ('great phone', 6),\n",
       " ('what is famous for', 6),\n",
       " ('what happened to', 6),\n",
       " ('what is the speed of the mississippi river', 6),\n",
       " ('what is address', 5),\n",
       " ('where wa born', 5)]"
      ]
     },
     "execution_count": 20,
     "metadata": {},
     "output_type": "execute_result"
    }
   ],
   "source": [
    "count.most_common(15) # Calculating the top 15 common documents"
   ]
  },
  {
   "cell_type": "markdown",
   "metadata": {},
   "source": [
    "##### Note:        \n",
    "\n",
    "There are 36 documents in the training data set which are questions and which start with text 'who is'. Similarly,\n",
    "\n",
    "22 documents for with text 'what is'."
   ]
  },
  {
   "cell_type": "markdown",
   "metadata": {},
   "source": [
    "##### 4.1 -> Visualizing named entities inside each question sentence before pre-processing them"
   ]
  },
  {
   "cell_type": "code",
   "execution_count": 21,
   "metadata": {},
   "outputs": [],
   "source": [
    "labels_b_c = [] # List to hold different named entities in the original text sentences which were not cleaned"
   ]
  },
  {
   "cell_type": "code",
   "execution_count": 22,
   "metadata": {
    "code_folding": [
     1
    ]
   },
   "outputs": [],
   "source": [
    "# Iterating over each sentence, which are questions\n",
    "for doc in train_ques_values:\n",
    "    \n",
    "    # Identifying named entities in that sentence\n",
    "    entities = spec(doc[0])\n",
    "    \n",
    "    # List to hold different labels of our interest\n",
    "    req_lab = [\"FACILITY\", \"LOCATION\", \"ORGANIZATION\", \"GPE\", \"PERSON\"]\n",
    "    \n",
    "    # Iterating over each named entity in the  string\n",
    "    for ent in entities.ents:\n",
    "        \n",
    "        # If this label is in our required labels \n",
    "        if ent.label_ in req_lab:\n",
    "            \n",
    "            # Append that label to the list\n",
    "            labels_b_c.append(ent.label_);\n",
    "            \n",
    "# Identifying unique labels and counting the occurence of each label            \n",
    "unq_lab_b_c ,values_b_c = np.unique(labels_b_c, return_counts=True)"
   ]
  },
  {
   "cell_type": "code",
   "execution_count": 23,
   "metadata": {},
   "outputs": [
    {
     "data": {
      "image/png": "[encoded data removed]",
      "text/plain": [
       "<Figure size 432x288 with 1 Axes>"
      ]
     },
     "metadata": {},
     "output_type": "display_data"
    }
   ],
   "source": [
    "# Plotting a pie plot \n",
    "plt.pie(values_b_c, labels=unq_lab_b_c, autopct='%1.1f%%', startangle=140)\n",
    "\n",
    "# Display the chart\n",
    "plt.show()"
   ]
  },
  {
   "cell_type": "markdown",
   "metadata": {},
   "source": [
    "#### In our original data set, with only questions, of all the named entities across all sentences we have about 57.5% of them are names of a 'PERSON' and 42.5% are names of 'Geo Political Entities' such as names of a Location or Landmark"
   ]
  },
  {
   "cell_type": "markdown",
   "metadata": {},
   "source": [
    "##### 4.2 -> Visualizing named entities in the whole data set after cleaning them"
   ]
  },
  {
   "cell_type": "code",
   "execution_count": 24,
   "metadata": {},
   "outputs": [],
   "source": [
    "labels = [] # List to hold different named entities in the original text sentences which were not cleaned"
   ]
  },
  {
   "cell_type": "code",
   "execution_count": 25,
   "metadata": {
    "code_folding": [
     1
    ]
   },
   "outputs": [],
   "source": [
    "# Slicing only questions from our data frame and iterating over all such sentences\n",
    "for doc in df_fd.loc[df_fd.label == 1, 'Text']:\n",
    "    \n",
    "    # Identifying named entities in that sentence\n",
    "    entities = spec(doc)\n",
    "    \n",
    "    # List to hold different labels of our interest\n",
    "    req_lab = [\"FACILITY\", \"LOCATION\", \"ORGANIZATION\", \"GPE\", \"PERSON\"]\n",
    "    \n",
    "    # Iterating over each named entity in the  string\n",
    "    for ent in entities.ents:\n",
    "        \n",
    "        # If this label is in our required labels \n",
    "        if ent.label_ in req_lab:\n",
    "            \n",
    "            # Append that label to the list\n",
    "            labels.append(ent.label_);\n",
    "            \n",
    "# Identifying unique labels and counting the occurence of each label                       \n",
    "unq_lab ,values = np.unique(labels, return_counts=True)"
   ]
  },
  {
   "cell_type": "code",
   "execution_count": 26,
   "metadata": {},
   "outputs": [
    {
     "data": {
      "image/png": "[encoded data removed]",
      "text/plain": [
       "<Figure size 432x288 with 1 Axes>"
      ]
     },
     "metadata": {},
     "output_type": "display_data"
    }
   ],
   "source": [
    "# Plotting a pie plot\n",
    "plt.pie(values, labels=unq_lab, autopct='%1.1f%%', startangle=140)\n",
    "\n",
    "# Display the chart\n",
    "plt.show()"
   ]
  },
  {
   "cell_type": "markdown",
   "metadata": {},
   "source": [
    "#### In our clean data set, we sliced all the questions , of all the named entities across all sentences we have about 95.3% of them are names of a 'PERSON' and 4.7% are names of 'Geo Political Entities' such as names of a Location or Landmark. So, we can see a clear improvement in our cleaned sentences with less noise."
   ]
  },
  {
   "cell_type": "code",
   "execution_count": 27,
   "metadata": {},
   "outputs": [],
   "source": [
    "os.chdir('C:\\\\Users\\\\amith\\\\Desktop\\\\Toucan AI_Test')"
   ]
  },
  {
   "cell_type": "markdown",
   "metadata": {},
   "source": [
    "#### Step 5: Create vectors for the documents"
   ]
  },
  {
   "cell_type": "code",
   "execution_count": 28,
   "metadata": {
    "code_folding": [
     0,
     8,
     43,
     72,
     102,
     133,
     148
    ]
   },
   "outputs": [],
   "source": [
    "class D2V():\n",
    "    \n",
    "    ''' This class is used to convert each sentence which is a text document into a vector of float values.\n",
    "    \n",
    "    These vectors are then saved on to a text file using numpy package. All the documents will be fed to the neural\n",
    "    \n",
    "    network in a single batch.'''\n",
    "    \n",
    "    def __init__(self,\n",
    "                 vec_size,\n",
    "                 num_workers,\n",
    "                 epochs,\n",
    "                 text_data):\n",
    "        \n",
    "        '''Constructor to initialize required values. This function internally calls required \n",
    "        \n",
    "        member functions which are used to pre-process, train and test the documents.'''\n",
    "        \n",
    "        # No. of dimensions / columns in each vector\n",
    "        self.vec_size = vec_size\n",
    "        \n",
    "        \n",
    "        # No. of threads for parallel processing of training phase\n",
    "        self.num_workers = num_workers\n",
    "        \n",
    "        # No. of epochs to train the algorithm on\n",
    "        self.epo = epochs\n",
    "        \n",
    "        # Data frame which contains the text data and labels\n",
    "        self.data = text_data\n",
    "        \n",
    "        #  Pre Process the data\n",
    "        self._Pre_process_data()\n",
    "        \n",
    "        # Vectorize it\n",
    "        self._Vectorize_it()\n",
    "        \n",
    "        # Train it\n",
    "        self._Train_it()\n",
    "        \n",
    "        # Test it\n",
    "        self._Test_it()\n",
    "            \n",
    "    def _Pre_process_data(self):\n",
    "        \n",
    "        '''This is a private function used to clean or pre-process the data.\n",
    "        The pre-processing steps include word tokenization, \n",
    "        checking wether a word is an alphabet or a digit, removing special symbols etc.\n",
    "        \n",
    "        Inputs: N/A\n",
    "        \n",
    "        Outputs: N/A\n",
    "        '''\n",
    "        \n",
    "        # Accessing only the text column of the data frame and converting a series to list\n",
    "        user_mes = self.data['Text'].tolist()\n",
    "        \n",
    "        \n",
    "        # Iterating over each sentence and splitting sentence into individual words and removing tag mentions\n",
    "        rt_mes = [word_tokenize(sent.split('@')[1])[1:]  if sent.startswith('@') \n",
    "                  else word_tokenize(sent)  for sent in user_mes]\n",
    "        \n",
    "       \n",
    "\n",
    "        \n",
    "        # Iterating over each sentence and checking if a word is either an alphabet or a digit \n",
    "        self.words = [[word for word in sent if word.isalpha() or word.isdigit()] \n",
    "                      for sent in rt_mes]\n",
    "        \n",
    "        # Accessing all the labels in the data set\n",
    "        self.labels = self.data['label'].tolist()\n",
    "        \n",
    "    def _Vectorize_it(self):\n",
    "        \n",
    "        '''This is a private function used to convert each document to a number-based vector form.\n",
    "        \n",
    "        This function makes use of the TaggedDocument class from the gensim's Doc2Vec package to convert/tag each\n",
    "        \n",
    "        sentence to its corresponding label and then use such a tagged document to train the algorithm.\n",
    "        \n",
    "        Each tagged document has a sentence which is split into individual words and its corresponding label.''' \n",
    "        \n",
    "        self.documents = [TaggedDocument(sent, [lab]) for sent,lab in list(      zip(self.words,  self.labels)  )   ]\n",
    "        \n",
    "        #Shuffle the document for better accuracy\n",
    "        np.random.shuffle(self.documents)\n",
    "        \n",
    "        self.model = Doc2Vec(vector_size= self.vec_size , # Shape / Dimensions / # of columns in each vector sample\n",
    "                             \n",
    "                             window= 15 , # No. of documents which are similar to a given document\n",
    "                             \n",
    "                             min_count=1,\n",
    "                             \n",
    "                             workers= self.num_workers) # No. of parallel threads to train the algorithm\n",
    "        \n",
    "        # Slicing no. of training documents\n",
    "        self.train_docs = self.documents[   : int( len(self.documents ) * 0.85 )  ] \n",
    "        \n",
    "        \n",
    "        # Slicing no. of test documents\n",
    "        self.test_docs = list (   np.array(   self.documents[  -1200 : ]).T[0]    )\n",
    "                       \n",
    "    def _Train_it(self):\n",
    "        \n",
    "        '''This is a private function which is used to train the Neural network which was already built.\n",
    "        \n",
    "        After training the network, this function saves the trained model ( with its hyper parameters and weights) in a .Doc2Vec file\n",
    "        \n",
    "        and also saves the vector representation of documents in a text file.'''\n",
    "        \n",
    "        \n",
    "        # Building a simple bag of words model with unique words in the entire text data / corpus\n",
    "        self.model.build_vocab(self.train_docs)       \n",
    "        \n",
    "        \n",
    "        # Training the neural network to convert a OneHot Encoded feature to set of float values\n",
    "        self.model.train(self.train_docs , # Actual documents to train on\n",
    "                         total_examples=len(self.train_docs), # total no.of training examples\n",
    "                         epochs= self.epo)# No. of times to continue the training process\n",
    "         \n",
    "        \n",
    "\n",
    "        # Save the trained model ( weights, hyper parameters ), so that it can be re used later \n",
    "        self.model.save('Ques_Classify_vectors.doc2vec')\n",
    "        \n",
    "        \n",
    "        # List to hold vector values of each document in the original document\n",
    "        all_train_vectors = []\n",
    "        \n",
    "    # Saving all the word vectors for the trained documents in a seperate text file so that they can be used to train later\n",
    "        #on another NN\n",
    "        \n",
    "        # Iterating over each document in the data set\n",
    "        for doc in self.data['Text']:\n",
    "            \n",
    "            # Getting it's vector form by calling model's infer_vector method\n",
    "            vector_doc = self.model.infer_vector(word_tokenize( doc) )\n",
    "            \n",
    "            # Appending the result to a list\n",
    "            all_train_vectors.append(vector_doc)\n",
    "            \n",
    "        \n",
    "        # Save all the vectors to a text file with a new line as a seperator for each sample\n",
    "        np.savetxt('Vectors_QNQ_Data.txt',\n",
    "                   X=all_train_vectors,\n",
    "                   delimiter=',',\n",
    "                   newline='\\n')\n",
    "                 \n",
    "    def _Test_it(self):\n",
    "        \n",
    "        '''This is a private function which is used to test the Neural network which was already built and trained.\n",
    "        \n",
    "        This function randomly choose 10 documents from the test set and predict the most similar document to the current document,\n",
    "        \n",
    "        the idea is that if two documents are very similar they both may have a same meaning, in other words both might be questions\n",
    "        \n",
    "        so we can infer whether a sentence is a question or not.'''\n",
    "        \n",
    "        \n",
    "        # Iterate over last 10 test documents\n",
    "        for doc in self.test_docs[:10]:\n",
    "            \n",
    "            # Get the vector representation of the text file\n",
    "            vec = self.model.infer_vector(doc)\n",
    "            \n",
    "            # Find out a vector which is the *most similar* one to the current vector by using cosine distance,\n",
    "            \n",
    "            # in other words, this most similar document will have a tag / label which will be given to the sample which was\n",
    "            # tested on, thus classifying the label of the sample\n",
    "            pred = self.model.docvecs.most_similar(  positive = [vec], topn= 1  )\n",
    "            \n",
    "            # Print the results\n",
    "            print('For the document: ', doc ,' - Predicted label is: ', pred)"
   ]
  },
  {
   "cell_type": "code",
   "execution_count": 29,
   "metadata": {
    "code_folding": []
   },
   "outputs": [
    {
     "name": "stdout",
     "output_type": "stream",
     "text": [
      "For the document:  ['where', 'is', 'inoco', 'based']  - Predicted label is:  [(1, 0.1459503322839737)]\n",
      "For the document:  ['which', 'college', 'did', 'play', 'basketball', 'for']  - Predicted label is:  [(1, 0.1584547907114029)]\n",
      "For the document:  ['to', 'my', 'phone', 'without', 'effort']  - Predicted label is:  [(0, 0.03358972817659378)]\n",
      "For the document:  ['what', 'russian', 'seaport', 'ha', 'a', 'name', 'meaning', 'lord', 'of', 'the', 'east']  - Predicted label is:  [(1, 0.1653847098350525)]\n",
      "For the document:  ['what', 'crooner', 'joined', 'the', 'andrew', 'sister', 'for', 'pistol', 'packin', 'mama']  - Predicted label is:  [(0, 0.23367753624916077)]\n",
      "For the document:  ['which', 'city', 'in', 'china', 'ha', 'the', 'largest', 'number', 'of', 'foreign', 'financial', 'company']  - Predicted label is:  [(0, 0.02192353457212448)]\n",
      "For the document:  ['this', 'is', 'not', 'a', 'yacht', 'it', 'is', 'a', 'galley']  - Predicted label is:  [(0, 0.13824987411499023)]\n",
      "For the document:  ['what', 'were', 'the', 'trial', 'called', 'which', 'followed', 'world', 'war', 'ii']  - Predicted label is:  [(1, 0.1468382477760315)]\n",
      "For the document:  ['why', 'are', 'sometimes', 'your', 'hand', 'cold', 'but', 'the', 'rest', 'of', 'you', 'isn']  - Predicted label is:  [(0, -0.06295507401227951)]\n",
      "For the document:  ['think', 'it', 'over', 'when', 'you', 'plan', 'to', 'own', 'this', 'one', 'this', 'sure', 'is', 'the', 'last', 'phone', 'for', 'me']  - Predicted label is:  [(0, 0.06472604721784592)]\n"
     ]
    }
   ],
   "source": [
    "doc_obj = D2V(400, # No. of columns for each sample\n",
    "              10, # No. of parallel workers\n",
    "              1100, # No. of epochs\n",
    "              df_fd) # Data frame containing text and its corresponding labels"
   ]
  },
  {
   "cell_type": "markdown",
   "metadata": {},
   "source": [
    "For each sentence, it's predicted label and cosine similarity score of it's document is printed. Ex: for the first document, the algorithm found a *similar sample* with cosine similarity score is 20 %, which happened to be the closest sample. So, we took the label of the * similar sample* and assigned it to our current sample."
   ]
  },
  {
   "cell_type": "code",
   "execution_count": null,
   "metadata": {},
   "outputs": [],
   "source": []
  }
 ],
 "metadata": {
  "kernelspec": {
   "display_name": "Python 3",
   "language": "python",
   "name": "python3"
  },
  "language_info": {
   "codemirror_mode": {
    "name": "ipython",
    "version": 3
   },
   "file_extension": ".py",
   "mimetype": "text/x-python",
   "name": "python",
   "nbconvert_exporter": "python",
   "pygments_lexer": "ipython3",
   "version": "3.6.5"
  }
 },
 "nbformat": 4,
 "nbformat_minor": 2
}
